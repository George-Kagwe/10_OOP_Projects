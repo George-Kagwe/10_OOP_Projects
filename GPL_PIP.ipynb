{
  "nbformat": 4,
  "nbformat_minor": 0,
  "metadata": {
    "colab": {
      "name": "GPL_PIP.ipynb",
      "provenance": [],
      "authorship_tag": "ABX9TyPfJQ3X6JzfKuqzcn8Sg6if",
      "include_colab_link": true
    },
    "kernelspec": {
      "name": "python3",
      "display_name": "Python 3"
    },
    "language_info": {
      "name": "python"
    }
  },
  "cells": [
    {
      "cell_type": "markdown",
      "metadata": {
        "id": "view-in-github",
        "colab_type": "text"
      },
      "source": [
        "<a href=\"https://colab.research.google.com/github/George-Kagwe/10_OOP_Projects/blob/main/GPL_PIP.ipynb\" target=\"_parent\"><img src=\"https://colab.research.google.com/assets/colab-badge.svg\" alt=\"Open In Colab\"/></a>"
      ]
    },
    {
      "cell_type": "markdown",
      "metadata": {
        "id": "vUXO15iEDBmU"
      },
      "source": [
        "Authenticate into"
      ]
    },
    {
      "cell_type": "code",
      "metadata": {
        "id": "Ne5Zd2EiCuZe"
      },
      "source": [
        "from google.colab import auth\n",
        "auth.authenticate_user()\n",
        "print('Authenticated')"
      ],
      "execution_count": null,
      "outputs": []
    },
    {
      "cell_type": "code",
      "metadata": {
        "id": "kLsW2nU0DTfw"
      },
      "source": [
        "from google.cloud import bigquery\n",
        "\n",
        "client = bigquery.Client(project=\"gpl-infrastructure\")\n",
        "\n",
        "sample_count = 2000\n",
        "row_count = client.query('''\n",
        "  SELECT \n",
        "    COUNT(*) as total\n",
        "  FROM `gpl-infrastructure.Custom_views.Agent_Tl_PMP_conversations` ''').to_dataframe().total[0]\n",
        "\n",
        "df = client.query('''\n",
        "  SELECT\n",
        "    *\n",
        "  FROM\n",
        "    `gpl-infrastructure.Custom_views.Agent_Tl_PMP_conversations` \n",
        "  \n",
        "''' % (sample_count, row_count)).to_dataframe()\n",
        "\n",
        "print('Full dataset has %d rows' % row_count)"
      ],
      "execution_count": null,
      "outputs": []
    },
    {
      "cell_type": "code",
      "metadata": {
        "id": "_-pYQxb8ExJj"
      },
      "source": [
        "df.head()"
      ],
      "execution_count": null,
      "outputs": []
    },
    {
      "cell_type": "code",
      "metadata": {
        "colab": {
          "base_uri": "https://localhost:8080/"
        },
        "id": "02xrSgw7nuWy",
        "outputId": "aa378c85-84ed-40a1-a253-70b71910283b"
      },
      "source": [
        "import smtplib\n",
        "from email.mime.multipart import MIMEMultipart\n",
        "from email.mime.text import MIMEText\n",
        "\n",
        "class communications():\n",
        "      #global variables\n",
        "      # gmail_user = 'Analytics@samasource.org'\n",
        "      # gmail_password = 'BI@sam_sh@readd2021'\n",
        "     \n",
        "      \n",
        "      # def send_emails(email_recipients):\n",
        "          \n",
        "      def absenteesim_emails():\n",
        "          gmail_user = 'george.kagwe@samasource.org'\n",
        "          sent_from = 'george.kagwe@samasource.org'\n",
        "          gmail_password = 'Analytics@2022!'\n",
        "          to = ['georgegkagwe@gmail.com']\n",
        "          subject = 'absentsent from work'\n",
        "          text = \"Hi PM!\\nHow are you?\\n You missed work with no call no show,\\\n",
        "          You will have a conversation with your team leader who is copied on this email\\\n",
        "          Your team leader will record the conversation in the form link below and guide you on the next steps\\\n",
        "          https://docs.google.com/forms/d/11Yb3MFjYtjzOOrTmTsCDYwAUoB2PAspxUEAimmd0g4M/edit?ts=60e2ad42\"\n",
        "          email_text = \"\"\"\\\n",
        "          From: %s\n",
        "          To: %s\n",
        "          Subject: %s\n",
        "          %s\n",
        "          \"\"\" % (sent_from, \", \".join(to), subject,text)\n",
        "\n",
        "          try:\n",
        "              server = smtplib.SMTP_SSL('smtp.gmail.com', 465)\n",
        "              server.ehlo()\n",
        "              server.login(gmail_user, gmail_password)\n",
        "              server.sendmail(sent_from, to,subject, email_text)\n",
        "              server.close()\n",
        "              print ('Email sent!')\n",
        "          except:\n",
        "              print ('Something went wrong...')\n",
        "      def underperformance():\n",
        "          gmail_user = 'george.kagwe@samasource.org'\n",
        "          sent_from = 'george.kagwe@samasource.org'\n",
        "          gmail_password = 'Analytics@2022!'\n",
        "          to = ['georgegkagwe@gmail.com']\n",
        "          subject = 'Agents who did not meet 95% QA'\n",
        "          text = \"Dear PM!\\n Here is a list of agents who missed the QA target of 95%,\\\n",
        "          https://docs.google.com/spreadsheets/d/1MXuebIvFiD28tntnll3E7NXWmnZtQaCHFMjUCUpBGVA/edit?usp=sharing\\\n",
        "          The  team leader will record the conversation in the form link below and guide the agent  on the next steps\\\n",
        "          https://docs.google.com/forms/d/11Yb3MFjYtjzOOrTmTsCDYwAUoB2PAspxUEAimmd0g4M/edit?ts=60e2ad42\"\n",
        "          email_text = \"\"\"\\\n",
        "          From: %s\n",
        "          To: %s\n",
        "          Subject: %s\n",
        "          %s\n",
        "          \"\"\" % (sent_from, \", \".join(to), subject, text)\n",
        "\n",
        "          try:\n",
        "              server = smtplib.SMTP_SSL('smtp.gmail.com', 465)\n",
        "              server.ehlo()\n",
        "              server.login(gmail_user, gmail_password)\n",
        "              server.sendmail(sent_from, to, email_text)\n",
        "              server.close()\n",
        "              print ('Email sent!')\n",
        "          except:\n",
        "              print ('Something went wrong...')\n",
        "\n",
        "     \n",
        "         \n",
        "        \n",
        "# communications.underperformance()\n",
        "communications.absenteesim_emails()"
      ],
      "execution_count": 9,
      "outputs": [
        {
          "output_type": "stream",
          "text": [
            "Something went wrong...\n"
          ],
          "name": "stdout"
        }
      ]
    },
    {
      "cell_type": "code",
      "metadata": {
        "colab": {
          "base_uri": "https://localhost:8080/"
        },
        "id": "HDMauQEhGMWE",
        "outputId": "5b5c8147-7bbd-442e-e25a-9a06bdfcef54"
      },
      "source": [
        "import smtplib\n",
        "\n",
        "gmail_user = 'Analytics@samasource.org'\n",
        "gmail_password = 'BI@sam_sh@readd2021'\n",
        "\n",
        "sent_from = gmail_user\n",
        "to = ['charles.muchangi@samasource.org','gpl_pdo@nbo.samadc.org','judy.macharia@samasource.org','margaret.kiplagat@samasource.org','anne.njoroge@samasource.org','fatuma.adan@samasource.org','herman.miller@samasource.com' ]\n",
        "subject = 'PIP: Agents who did  not meet a QA of 95% in week 29'\n",
        "body = 'Dear PM,\\n Here is a list of agents who missed the QA target of 95% in week 29\\n\\\n",
        "          https://docs.google.com/spreadsheets/d/1MXuebIvFiD28tntnll3E7NXWmnZtQaCHFMjUCUpBGVA/edit?usp=sharing\\n\\\n",
        "          The  team leader will have a conversation with the agent and record in the form link below and guide the agent  on the next steps\\n\\\n",
        "          https://docs.google.com/forms/d/11Yb3MFjYtjzOOrTmTsCDYwAUoB2PAspxUEAimmd0g4M/edit?ts=60e2ad42\\n\\\n",
        "          \\n\\\n",
        "          Here is a list of agents who did not show up for work in week 29 with a no call no show\\n\\\n",
        "          https://docs.google.com/spreadsheets/d/194Z3iBiNa1m5llnLLjU0QJp0R7KDg8OpQWAqII-ITjo/edit#gid=2057548883\\n\\\n",
        "          \\n\\\n",
        "          This is a dry run and no action is needed for this week\\n\\\n",
        "          Kind Regards\\n\\\n",
        "          BA Team'\n",
        "\n",
        "email_text = \"\"\"\\\n",
        "From: %s\n",
        "To: %s\n",
        "Subject: %s\n",
        "\n",
        "%s\n",
        "\"\"\" % (sent_from, \", \".join(to), subject, body)\n",
        "\n",
        "try:\n",
        "    smtp_server = smtplib.SMTP_SSL('smtp.gmail.com', 465)\n",
        "    smtp_server.ehlo()\n",
        "    smtp_server.login(gmail_user, gmail_password)\n",
        "    smtp_server.sendmail(sent_from, to, email_text)\n",
        "    smtp_server.close()\n",
        "    print (\"Email sent successfully!\")\n",
        "except Exception as ex:\n",
        "    print (\"Something went wrong….\",ex)\n"
      ],
      "execution_count": 28,
      "outputs": [
        {
          "output_type": "stream",
          "text": [
            "Email sent successfully!\n"
          ],
          "name": "stdout"
        }
      ]
    }
  ]
}